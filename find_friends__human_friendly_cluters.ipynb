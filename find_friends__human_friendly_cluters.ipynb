{
 "cells": [
  {
   "cell_type": "markdown",
   "metadata": {},
   "source": [
    "# Tworzymy nazwane klastry\n",
    "\n",
    "W lekcji tej użyjemy LLM-ów do pomocy przy znalezieniu odpowiednich nazw i opisów dla klastrów."
   ]
  },
  {
   "cell_type": "code",
   "execution_count": 1,
   "metadata": {},
   "outputs": [],
   "source": [
    "import json\n",
    "import pandas as pd\n",
    "from openai import OpenAI\n",
    "from dotenv import dotenv_values\n",
    "from pycaret.clustering import predict_model, load_model"
   ]
  },
  {
   "cell_type": "code",
   "execution_count": 11,
   "metadata": {},
   "outputs": [],
   "source": [
    "env = dotenv_values(\".env\")\n",
    "\n",
    "openai_client = OpenAI(api_key=env[\"OPENAI_API_KEY\"])"
   ]
  },
  {
   "cell_type": "markdown",
   "metadata": {},
   "source": [
    "ładujemy nasze dane"
   ]
  },
  {
   "cell_type": "code",
   "execution_count": 3,
   "metadata": {},
   "outputs": [
    {
     "data": {
      "text/html": [
       "<div>\n",
       "<style scoped>\n",
       "    .dataframe tbody tr th:only-of-type {\n",
       "        vertical-align: middle;\n",
       "    }\n",
       "\n",
       "    .dataframe tbody tr th {\n",
       "        vertical-align: top;\n",
       "    }\n",
       "\n",
       "    .dataframe thead th {\n",
       "        text-align: right;\n",
       "    }\n",
       "</style>\n",
       "<table border=\"1\" class=\"dataframe\">\n",
       "  <thead>\n",
       "    <tr style=\"text-align: right;\">\n",
       "      <th></th>\n",
       "      <th>age</th>\n",
       "      <th>edu_level</th>\n",
       "      <th>fav_animals</th>\n",
       "      <th>fav_place</th>\n",
       "      <th>gender</th>\n",
       "    </tr>\n",
       "  </thead>\n",
       "  <tbody>\n",
       "    <tr>\n",
       "      <th>0</th>\n",
       "      <td>&lt;18</td>\n",
       "      <td>Podstawowe</td>\n",
       "      <td>Brak ulubionych</td>\n",
       "      <td>NaN</td>\n",
       "      <td>Kobieta</td>\n",
       "    </tr>\n",
       "    <tr>\n",
       "      <th>1</th>\n",
       "      <td>25-34</td>\n",
       "      <td>Średnie</td>\n",
       "      <td>Psy</td>\n",
       "      <td>Nad wodą</td>\n",
       "      <td>Mężczyzna</td>\n",
       "    </tr>\n",
       "    <tr>\n",
       "      <th>2</th>\n",
       "      <td>45-54</td>\n",
       "      <td>Wyższe</td>\n",
       "      <td>Psy</td>\n",
       "      <td>W lesie</td>\n",
       "      <td>Mężczyzna</td>\n",
       "    </tr>\n",
       "    <tr>\n",
       "      <th>3</th>\n",
       "      <td>35-44</td>\n",
       "      <td>Średnie</td>\n",
       "      <td>Koty</td>\n",
       "      <td>W górach</td>\n",
       "      <td>Mężczyzna</td>\n",
       "    </tr>\n",
       "    <tr>\n",
       "      <th>4</th>\n",
       "      <td>35-44</td>\n",
       "      <td>Wyższe</td>\n",
       "      <td>Psy</td>\n",
       "      <td>Nad wodą</td>\n",
       "      <td>Mężczyzna</td>\n",
       "    </tr>\n",
       "  </tbody>\n",
       "</table>\n",
       "</div>"
      ],
      "text/plain": [
       "     age   edu_level      fav_animals fav_place     gender\n",
       "0    <18  Podstawowe  Brak ulubionych       NaN    Kobieta\n",
       "1  25-34     Średnie              Psy  Nad wodą  Mężczyzna\n",
       "2  45-54      Wyższe              Psy   W lesie  Mężczyzna\n",
       "3  35-44     Średnie             Koty  W górach  Mężczyzna\n",
       "4  35-44      Wyższe              Psy  Nad wodą  Mężczyzna"
      ]
     },
     "execution_count": 3,
     "metadata": {},
     "output_type": "execute_result"
    }
   ],
   "source": [
    "df = pd.read_csv('welcome_survey_simple_v2.csv', sep=';')\n",
    "df.head()"
   ]
  },
  {
   "cell_type": "markdown",
   "metadata": {},
   "source": [
    "ładujemy model wytrenowany w poprzedniej lekcji"
   ]
  },
  {
   "cell_type": "code",
   "execution_count": 4,
   "metadata": {},
   "outputs": [
    {
     "name": "stdout",
     "output_type": "stream",
     "text": [
      "Transformation Pipeline and Model Successfully Loaded\n"
     ]
    }
   ],
   "source": [
    "kmeans_pipeline = load_model('welcome_survey_clustering_pipeline_v2')"
   ]
  },
  {
   "cell_type": "markdown",
   "metadata": {},
   "source": [
    "aplikujemy model do danych"
   ]
  },
  {
   "cell_type": "code",
   "execution_count": 5,
   "metadata": {},
   "outputs": [
    {
     "data": {
      "text/plain": [
       "Cluster\n",
       "Cluster 0    79\n",
       "Cluster 1    43\n",
       "Cluster 2    33\n",
       "Cluster 6    32\n",
       "Cluster 5    21\n",
       "Cluster 7    14\n",
       "Cluster 3     6\n",
       "Cluster 4     1\n",
       "Name: count, dtype: int64"
      ]
     },
     "execution_count": 5,
     "metadata": {},
     "output_type": "execute_result"
    }
   ],
   "source": [
    "df_with_clusters = predict_model(model=kmeans_pipeline, data=df)\n",
    "df_with_clusters[\"Cluster\"].value_counts()"
   ]
  },
  {
   "cell_type": "markdown",
   "metadata": {},
   "source": [
    "stworzymy teraz prompt, który prześlemy do LLM-a w celu znalezienia odpowiednich nazw i opisów dla klastrów"
   ]
  },
  {
   "cell_type": "code",
   "execution_count": 6,
   "metadata": {},
   "outputs": [],
   "source": [
    "cluster_descriptions = {}\n",
    "for cluster_id in df_with_clusters['Cluster'].unique():\n",
    "    cluster_df = df_with_clusters[df_with_clusters['Cluster'] == cluster_id]\n",
    "    summary = \"\"\n",
    "    for column in df_with_clusters:\n",
    "        if column == 'Cluster':\n",
    "            continue\n",
    "\n",
    "        value_counts = cluster_df[column].value_counts()\n",
    "        value_counts_str = ', '.join([f\"{idx}: {cnt}\" for idx, cnt in value_counts.items()])\n",
    "        summary += f\"{column} - {value_counts_str}\\n\"\n",
    "\n",
    "    cluster_descriptions[cluster_id] = summary"
   ]
  },
  {
   "cell_type": "code",
   "execution_count": 7,
   "metadata": {},
   "outputs": [
    {
     "name": "stdout",
     "output_type": "stream",
     "text": [
      "age - 55-64: 14, 18-24: 0, 25-34: 0, 35-44: 0, 45-54: 0, <18: 0, >=65: 0, unknown: 0\n",
      "edu_level - Wyższe: 14, Podstawowe: 0, Średnie: 0\n",
      "fav_animals - Psy: 8, Inne: 3, Koty: 2, Brak ulubionych: 1, Koty i Psy: 0\n",
      "fav_place - Nad wodą: 5, W lesie: 4, W górach: 1, Inne: 0\n",
      "gender - Mężczyzna: 13, Kobieta: 1\n",
      "\n"
     ]
    }
   ],
   "source": [
    "print(cluster_descriptions[\"Cluster 7\"])"
   ]
  },
  {
   "cell_type": "code",
   "execution_count": 8,
   "metadata": {},
   "outputs": [
    {
     "name": "stdout",
     "output_type": "stream",
     "text": [
      "Użyliśmy algorytmu klastrowania.\n",
      "\n",
      "Klaster Cluster 4:\n",
      "age - <18: 1, 18-24: 0, 25-34: 0, 35-44: 0, 45-54: 0, 55-64: 0, >=65: 0, unknown: 0\n",
      "edu_level - Podstawowe: 1, Wyższe: 0, Średnie: 0\n",
      "fav_animals - Brak ulubionych: 1, Inne: 0, Koty: 0, Koty i Psy: 0, Psy: 0\n",
      "fav_place - Inne: 0, Nad wodą: 0, W górach: 0, W lesie: 0\n",
      "gender - Kobieta: 1, Mężczyzna: 0\n",
      "\n",
      "\n",
      "Klaster Cluster 1:\n",
      "age - 45-54: 13, 35-44: 11, 25-34: 10, 18-24: 8, >=65: 1, 55-64: 0, <18: 0, unknown: 0\n",
      "edu_level - Średnie: 43, Podstawowe: 0, Wyższe: 0\n",
      "fav_animals - Psy: 20, Koty: 12, Inne: 8, Brak ulubionych: 3, Koty i Psy: 0\n",
      "fav_place - W górach: 18, Nad wodą: 12, W lesie: 7, Inne: 3\n",
      "gender - Mężczyzna: 37, Kobieta: 6\n",
      "\n",
      "\n",
      "Klaster Cluster 2:\n",
      "age - 25-34: 20, 45-54: 13, 18-24: 0, 35-44: 0, 55-64: 0, <18: 0, >=65: 0, unknown: 0\n",
      "edu_level - Wyższe: 33, Podstawowe: 0, Średnie: 0\n",
      "fav_animals - Psy: 27, Inne: 6, Brak ulubionych: 0, Koty: 0, Koty i Psy: 0\n",
      "fav_place - W lesie: 20, W górach: 7, Nad wodą: 4, Inne: 1\n",
      "gender - Mężczyzna: 23, Kobieta: 10\n",
      "\n",
      "\n",
      "Klaster Cluster 0:\n",
      "age - 35-44: 45, 45-54: 30, >=65: 2, 18-24: 1, unknown: 1, 25-34: 0, 55-64: 0, <18: 0\n",
      "edu_level - Wyższe: 79, Podstawowe: 0, Średnie: 0\n",
      "fav_animals - Psy: 68, Inne: 11, Brak ulubionych: 0, Koty: 0, Koty i Psy: 0\n",
      "fav_place - Nad wodą: 39, W górach: 20, W lesie: 6, Inne: 4\n",
      "gender - Mężczyzna: 54, Kobieta: 24\n",
      "\n",
      "\n",
      "Klaster Cluster 6:\n",
      "age - 35-44: 14, 45-54: 12, 25-34: 6, 18-24: 0, 55-64: 0, <18: 0, >=65: 0, unknown: 0\n",
      "edu_level - Wyższe: 32, Podstawowe: 0, Średnie: 0\n",
      "fav_animals - Koty: 27, Inne: 5, Brak ulubionych: 0, Koty i Psy: 0, Psy: 0\n",
      "fav_place - W górach: 17, Nad wodą: 5, W lesie: 4, Inne: 1\n",
      "gender - Mężczyzna: 26, Kobieta: 6\n",
      "\n",
      "\n",
      "Klaster Cluster 5:\n",
      "age - 35-44: 11, >=65: 4, 45-54: 3, 18-24: 1, 25-34: 1, unknown: 1, 55-64: 0, <18: 0\n",
      "edu_level - Wyższe: 20, Średnie: 1, Podstawowe: 0\n",
      "fav_animals - Brak ulubionych: 21, Inne: 0, Koty: 0, Koty i Psy: 0, Psy: 0\n",
      "fav_place - W górach: 8, Nad wodą: 5, W lesie: 4, Inne: 0\n",
      "gender - Mężczyzna: 15, Kobieta: 5\n",
      "\n",
      "\n",
      "Klaster Cluster 3:\n",
      "age - 45-54: 3, 35-44: 2, 55-64: 1, 18-24: 0, 25-34: 0, <18: 0, >=65: 0, unknown: 0\n",
      "edu_level - Wyższe: 6, Podstawowe: 0, Średnie: 0\n",
      "fav_animals - Koty i Psy: 6, Brak ulubionych: 0, Inne: 0, Koty: 0, Psy: 0\n",
      "fav_place - Nad wodą: 3, W górach: 2, Inne: 0, W lesie: 0\n",
      "gender - Kobieta: 3, Mężczyzna: 3\n",
      "\n",
      "\n",
      "Klaster Cluster 7:\n",
      "age - 55-64: 14, 18-24: 0, 25-34: 0, 35-44: 0, 45-54: 0, <18: 0, >=65: 0, unknown: 0\n",
      "edu_level - Wyższe: 14, Podstawowe: 0, Średnie: 0\n",
      "fav_animals - Psy: 8, Inne: 3, Koty: 2, Brak ulubionych: 1, Koty i Psy: 0\n",
      "fav_place - Nad wodą: 5, W lesie: 4, W górach: 1, Inne: 0\n",
      "gender - Mężczyzna: 13, Kobieta: 1\n",
      "\n",
      "Wygeneruj najlepsze nazwy dla każdego z klasterów oraz ich opisy\n",
      "\n",
      "Użyj formatu JSON. Przykładowo:\n",
      "{\n",
      "    \"Cluster 0\": {\n",
      "        \"name\": \"Klaster 0\",\n",
      "        \"description\": \"W tym klastrze znajdują się osoby, które...\"\n",
      "    },\n",
      "    \"Cluster 1\": {\n",
      "        \"name\": \"Klaster 1\",\n",
      "        \"description\": \"W tym klastrze znajdują się osoby, które...\"\n",
      "    }\n",
      "}\n",
      "\n"
     ]
    }
   ],
   "source": [
    "prompt = \"Użyliśmy algorytmu klastrowania.\"\n",
    "for cluster_id, description in cluster_descriptions.items():\n",
    "    prompt += f\"\\n\\nKlaster {cluster_id}:\\n{description}\"\n",
    "\n",
    "prompt += \"\"\"\n",
    "Wygeneruj najlepsze nazwy dla każdego z klasterów oraz ich opisy\n",
    "\n",
    "Użyj formatu JSON. Przykładowo:\n",
    "{\n",
    "    \"Cluster 0\": {\n",
    "        \"name\": \"Klaster 0\",\n",
    "        \"description\": \"W tym klastrze znajdują się osoby, które...\"\n",
    "    },\n",
    "    \"Cluster 1\": {\n",
    "        \"name\": \"Klaster 1\",\n",
    "        \"description\": \"W tym klastrze znajdują się osoby, które...\"\n",
    "    }\n",
    "}\n",
    "\"\"\"\n",
    "print(prompt)"
   ]
  },
  {
   "cell_type": "code",
   "execution_count": 13,
   "metadata": {},
   "outputs": [],
   "source": [
    "response = openai_client.chat.completions.create(\n",
    "    model=\"gpt-4o\",\n",
    "    temperature=0,\n",
    "    messages=[\n",
    "        {\n",
    "            \"role\": \"user\",\n",
    "            \"content\": [{\"type\": \"text\", \"text\": prompt}],\n",
    "        }\n",
    "    ],\n",
    ")"
   ]
  },
  {
   "cell_type": "code",
   "execution_count": 14,
   "metadata": {},
   "outputs": [],
   "source": [
    "result = response.choices[0].message.content.replace(\"```json\", \"\").replace(\"```\", \"\").strip()\n",
    "cluster_names_and_descriptions = json.loads(result)"
   ]
  },
  {
   "cell_type": "code",
   "execution_count": 15,
   "metadata": {},
   "outputs": [],
   "source": [
    "with open(\"welcome_survey_cluster_names_and_descriptions_v2.json\", \"w\") as f:\n",
    "    f.write(json.dumps(cluster_names_and_descriptions))"
   ]
  },
  {
   "cell_type": "code",
   "execution_count": 16,
   "metadata": {},
   "outputs": [
    {
     "name": "stdout",
     "output_type": "stream",
     "text": [
      "{'Cluster 0': {'name': 'Profesjonaliści nad wodą', 'description': 'W tym klastrze znajdują się osoby w wieku 35-54 lat, z wyższym wykształceniem, które preferują psy i spędzanie czasu nad wodą. Większość z nich to mężczyźni.'}, 'Cluster 1': {'name': 'Średnio wykształceni miłośnicy gór', 'description': 'W tym klastrze znajdują się osoby w różnym wieku, głównie mężczyźni, z średnim wykształceniem, które preferują psy i spędzanie czasu w górach.'}, 'Cluster 2': {'name': 'Młodzi profesjonaliści leśni', 'description': 'W tym klastrze znajdują się młodsze osoby w wieku 25-34 lat, z wyższym wykształceniem, które preferują psy i spędzanie czasu w lesie. Większość z nich to mężczyźni.'}, 'Cluster 3': {'name': 'Miłośnicy kotów i psów nad wodą', 'description': 'W tym klastrze znajdują się osoby w wieku 35-54 lat, z wyższym wykształceniem, które lubią zarówno koty, jak i psy, oraz preferują spędzanie czasu nad wodą. Skład klastru jest równomiernie podzielony między kobiety i mężczyzn.'}, 'Cluster 4': {'name': 'Młodzież bez ulubionych zwierząt', 'description': 'W tym klastrze znajdują się młode kobiety poniżej 18 roku życia, z podstawowym wykształceniem, które nie mają ulubionych zwierząt i nie wykazują preferencji co do ulubionego miejsca.'}, 'Cluster 5': {'name': 'Wykształceni bez ulubionych zwierząt', 'description': 'W tym klastrze znajdują się osoby w wieku 35-44 lat, z wyższym wykształceniem, które nie mają ulubionych zwierząt i preferują spędzanie czasu w górach. Większość z nich to mężczyźni.'}, 'Cluster 6': {'name': 'Miłośnicy kotów w górach', 'description': 'W tym klastrze znajdują się osoby w wieku 35-44 lat, z wyższym wykształceniem, które preferują koty i spędzanie czasu w górach. Większość z nich to mężczyźni.'}, 'Cluster 7': {'name': 'Dojrzali miłośnicy psów', 'description': 'W tym klastrze znajdują się osoby w wieku 55-64 lat, z wyższym wykształceniem, które preferują psy i spędzanie czasu nad wodą. Większość z nich to mężczyźni.'}}\n"
     ]
    }
   ],
   "source": [
    "with open(\"welcome_survey_cluster_names_and_descriptions_v2.json\", \"r\") as f:\n",
    "    print(json.loads(f.read()))"
   ]
  }
 ],
 "metadata": {
  "kernelspec": {
   "display_name": "Python 3",
   "language": "python",
   "name": "python3"
  },
  "language_info": {
   "codemirror_mode": {
    "name": "ipython",
    "version": 3
   },
   "file_extension": ".py",
   "mimetype": "text/x-python",
   "name": "python",
   "nbconvert_exporter": "python",
   "pygments_lexer": "ipython3",
   "version": "3.11.13"
  }
 },
 "nbformat": 4,
 "nbformat_minor": 4
}
